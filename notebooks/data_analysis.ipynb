{
 "cells": [
  {
   "cell_type": "markdown",
   "metadata": {},
   "source": [
    "## Task 1: Financial Data Analysis Script\n",
    "This notebook performs comprehensive analysis of financial data for TSLA, BND, and SPY.\n"
   ]
  },
  {
   "cell_type": "code",
   "execution_count": null,
   "metadata": {
    "ExecuteTime": {
     "end_time": "2024-11-13T10:20:42.065887Z",
     "start_time": "2024-11-13T10:20:42.042233Z"
    }
   },
   "outputs": [],
   "source": [
    "import pandas as pd\n",
    "import numpy as np\n",
    "import matplotlib.pyplot as plt\n",
    "import seaborn\n",
    "\n",
    "import warnings\n",
    "warnings.filterwarnings('ignore')"
   ]
  },
  {
   "cell_type": "code",
   "execution_count": null,
   "metadata": {
    "jupyter": {
     "is_executing": true
    }
   },
   "outputs": [],
   "source": [
    "# Add the parent directory to the system path \n",
    "import os\n",
    "import sys\n",
    "sys.path.append(os.path.abspath(os.path.join('..')))"
   ]
  },
  {
   "cell_type": "code",
   "execution_count": null,
   "metadata": {},
   "outputs": [],
   "source": [
    "from scripts.data_analysis import *"
   ]
  },
  {
   "cell_type": "code",
   "execution_count": null,
   "metadata": {},
   "outputs": [],
   "source": [
    "# # Set plotting style\n",
    "# plt.style.use('seaborn')\n",
    "# sns.set_palette(\"husl\")"
   ]
  },
  {
   "cell_type": "code",
   "execution_count": null,
   "metadata": {},
   "outputs": [],
   "source": [
    "# 1. Data Collection\n",
    "print(\"\\n1. Data Collection\")\n",
    "print(\"-\" * 40)\n",
    "    \n",
    "start_date = '2015-01-01'\n",
    "end_date = '2024-12-31'\n",
    "tickers = ['TSLA', 'BND', 'SPY']"
   ]
  },
  {
   "cell_type": "code",
   "execution_count": null,
   "metadata": {},
   "outputs": [],
   "source": [
    "# Fetch data for all assets\n",
    "data_dict = {}\n",
    "for ticker in tickers:\n",
    "    data_dict[ticker] = fetch_stock_data(ticker, start_date, end_date)\n",
    "    print(f\"Fetched data for {ticker}\")"
   ]
  },
  {
   "cell_type": "code",
   "execution_count": null,
   "metadata": {},
   "outputs": [],
   "source": [
    "data_dict"
   ]
  },
  {
   "cell_type": "code",
   "execution_count": null,
   "metadata": {},
   "outputs": [],
   "source": [
    "# 2. Data Cleaning and Preprocessing\n",
    "print(\"\\n2. Data Cleaning and Preprocessing\")\n",
    "print(\"-\" * 40)\n",
    "    \n",
    "cleaned_data = {}\n",
    "for ticker in tickers:\n",
    "    cleaned_data[ticker], missing_values = clean_data(data_dict[ticker], ticker)\n",
    "    print(f\"\\nProcessed data for {ticker}\")\n",
    "    print(\"Missing values:\")\n",
    "    print(missing_values)\n",
    "    print(\"\\nBasic statistics:\")\n",
    "    print(cleaned_data[ticker]['Close'].describe())"
   ]
  },
  {
   "cell_type": "code",
   "execution_count": null,
   "metadata": {},
   "outputs": [],
   "source": [
    "# 3. Price Analysis\n",
    "print(\"\\n3. Price Analysis\")\n",
    "print(\"-\" * 40)\n",
    "    \n",
    "for ticker in tickers:\n",
    "    print(f\"\\nAnalyzing price trends for {ticker}\")\n",
    "    plot_price_analysis(cleaned_data[ticker], ticker)\n",
    "    plt.close()  # Close the plot to free memory"
   ]
  },
  {
   "cell_type": "code",
   "execution_count": null,
   "metadata": {},
   "outputs": [],
   "source": [
    "# 4. Returns Analysis\n",
    "print(\"\\n4. Returns Analysis\")\n",
    "print(\"-\" * 40)\n",
    "    \n",
    "for ticker in tickers:\n",
    "    print(f\"\\nAnalyzing returns distribution for {ticker}\")\n",
    "    plot_returns_distribution(cleaned_data[ticker], ticker)\n",
    "    plt.close()"
   ]
  },
  {
   "cell_type": "code",
   "execution_count": null,
   "metadata": {},
   "outputs": [],
   "source": [
    "# 5. Risk Analysis\n",
    "print(\"\\n5. Risk Analysis\")\n",
    "print(\"-\" * 40)\n",
    "    \n",
    "risk_metrics = {}\n",
    "for ticker in tickers:\n",
    "    risk_metrics[ticker] = calculate_risk_metrics(cleaned_data[ticker])\n",
    "    print(f\"\\nRisk Metrics for {ticker}:\")\n",
    "    for metric, value in risk_metrics[ticker].items():\n",
    "        print(f\"{metric}: {value:.4f}\")\n",
    "        \n",
    "    print(f\"\\nPlotting rolling volatility for {ticker}\")\n",
    "    plot_rolling_volatility(cleaned_data[ticker], ticker)\n",
    "    plt.close()"
   ]
  },
  {
   "cell_type": "code",
   "execution_count": null,
   "metadata": {},
   "outputs": [],
   "source": [
    "# 6. Seasonality Analysis\n",
    "print(\"\\n6. Seasonality Analysis\")\n",
    "print(\"-\" * 40)\n",
    "    \n",
    "print(\"\\nPerforming seasonality analysis for Tesla\")\n",
    "decomposition = perform_seasonality_analysis(cleaned_data['TSLA'], 'TSLA')\n",
    "plt.close()"
   ]
  },
  {
   "cell_type": "code",
   "execution_count": null,
   "metadata": {},
   "outputs": [],
   "source": [
    "# 7. Correlation Analysis\n",
    "print(\"\\n7. Correlation Analysis\")\n",
    "print(\"-\" * 40)\n",
    "    \n",
    "correlation_matrix = analyze_correlations(cleaned_data)\n",
    "print(\"\\nCorrelation Matrix:\")\n",
    "print(correlation_matrix)\n",
    "plt.close()"
   ]
  },
  {
   "cell_type": "code",
   "execution_count": null,
   "metadata": {},
   "outputs": [],
   "source": [
    "# # 8. Save Processed Data\n",
    "# print(\"\\n8. Saving Processed Data\")\n",
    "# print(\"-\" * 40)\n",
    "    \n",
    "# for ticker, df in cleaned_data.items():\n",
    "#     df.to_csv(f'{ticker}_processed.csv')\n",
    "#     print(f\"Saved processed data for {ticker}\")\n",
    "\n",
    "\n",
    "# 8. Save Processed Data\n",
    "print(\"\\n8. Saving Processed Data\")\n",
    "print(\"-\" * 40)\n",
    "\n",
    "output_folder = \"../data/processed/\"\n",
    "for ticker, df in cleaned_data.items():\n",
    "    df.to_csv(f'{output_folder}{ticker}_processed.csv', index=False)\n",
    "    print(f\"Saved processed data for {ticker} in {output_folder}\")\n"
   ]
  },
  {
   "cell_type": "code",
   "execution_count": null,
   "metadata": {},
   "outputs": [],
   "source": [
    "def generate_summary_report(cleaned_data, risk_metrics, correlation_matrix):\n",
    "    \"\"\"\n",
    "    Generate a summary report of the analysis findings.\n",
    "    \"\"\"\n",
    "    summary = []\n",
    "    \n",
    "    # Price Analysis Summary\n",
    "    summary.append(\"Price Analysis:\")\n",
    "    for ticker in cleaned_data.keys():\n",
    "        last_price = cleaned_data[ticker]['Close'][-1]\n",
    "        price_change = (last_price / cleaned_data[ticker]['Close'][0] - 1) * 100\n",
    "        summary.append(f\"- {ticker}: Current Price: ${last_price:.2f}, Total Return: {price_change:.2f}%\")\n",
    "    \n",
    "    # Risk Analysis Summary\n",
    "    summary.append(\"\\nRisk Analysis:\")\n",
    "    for ticker, metrics in risk_metrics.items():\n",
    "        summary.append(f\"- {ticker}:\")\n",
    "        summary.append(f\"  * Annual Volatility: {metrics['Annual_Volatility']*100:.2f}%\")\n",
    "        summary.append(f\"  * Sharpe Ratio: {metrics['Sharpe_Ratio']:.2f}\")\n",
    "        summary.append(f\"  * Maximum Drawdown: {metrics['Max_Drawdown']*100:.2f}%\")\n",
    "    \n",
    "    # Correlation Summary\n",
    "    summary.append(\"\\nCorrelation Analysis:\")\n",
    "    high_corr_pairs = []\n",
    "    for i in correlation_matrix.index:\n",
    "        for j in correlation_matrix.columns:\n",
    "            if i < j:  # Avoid duplicate pairs\n",
    "                corr = correlation_matrix.loc[i, j]\n",
    "                if abs(corr) > 0.5:  # Report significant correlations\n",
    "                    high_corr_pairs.append(f\"- {i}-{j}: {corr:.2f}\")\n",
    "    \n",
    "    if high_corr_pairs:\n",
    "        summary.append(\"Significant correlations:\")\n",
    "        summary.extend(high_corr_pairs)\n",
    "    \n",
    "    # Print the summary\n",
    "    print(\"\\nAnalysis Summary:\")\n",
    "    print(\"-\" * 40)\n",
    "    print(\"\\n\".join(summary))"
   ]
  },
  {
   "cell_type": "code",
   "execution_count": null,
   "metadata": {},
   "outputs": [],
   "source": [
    "# 9. Generate Summary Report\n",
    "print(\"\\n9. Summary of Findings\")\n",
    "print(\"-\" * 40)\n",
    "    \n",
    "generate_summary_report(cleaned_data, risk_metrics, correlation_matrix)"
   ]
  }
 ],
 "metadata": {
  "kernelspec": {
   "display_name": "venv",
   "language": "python",
   "name": "python3"
  },
  "language_info": {
   "codemirror_mode": {
    "name": "ipython",
    "version": 3
   },
   "file_extension": ".py",
   "mimetype": "text/x-python",
   "name": "python",
   "nbconvert_exporter": "python",
   "pygments_lexer": "ipython3",
   "version": "3.12.1"
  }
 },
 "nbformat": 4,
 "nbformat_minor": 2
}
