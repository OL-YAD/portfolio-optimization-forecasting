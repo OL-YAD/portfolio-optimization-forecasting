{
 "cells": [
  {
   "cell_type": "markdown",
   "metadata": {},
   "source": [
    "## Task 2: Develop Time Series Forecasting Models"
   ]
  },
  {
   "cell_type": "code",
   "execution_count": 1,
   "metadata": {},
   "outputs": [],
   "source": [
    "import pandas as pd\n",
    "import numpy as np\n",
    "import matplotlib.pyplot as plt\n",
    "import seaborn\n",
    "from statsmodels.tsa.arima.model import ARIMA\n",
    "from statsmodels.tsa.statespace.sarimax import SARIMAX\n",
    "from tensorflow.keras.models import Sequential\n",
    "from tensorflow.keras.layers import Dense, LSTM\n",
    "from sklearn.metrics import mean_absolute_error, mean_squared_error, mean_absolute_percentage_error\n",
    "\n",
    "import warnings\n",
    "warnings.filterwarnings('ignore')"
   ]
  },
  {
   "cell_type": "code",
   "execution_count": null,
   "metadata": {},
   "outputs": [],
   "source": [
    "# Add the parent directory to the system path \n",
    "import os\n",
    "import sys\n",
    "sys.path.append(os.path.abspath(os.path.join('..')))"
   ]
  },
  {
   "cell_type": "code",
   "execution_count": null,
   "metadata": {},
   "outputs": [],
   "source": [
    "# Load the preprocessed data\n",
    "df_TSLA = pd.read_csv('../data/processed/TSLA_processed.csv')\n",
    "df_BND = pd.read_csv('../data/processed/BND_processed.csv')\n",
    "df_SPY = pd.read_csv('../data/processed/SPY_processed.csv')"
   ]
  },
  {
   "cell_type": "code",
   "execution_count": null,
   "metadata": {},
   "outputs": [],
   "source": [
    "df_TSLA.head()"
   ]
  },
  {
   "cell_type": "code",
   "execution_count": null,
   "metadata": {},
   "outputs": [],
   "source": [
    "df_BND.head()"
   ]
  },
  {
   "cell_type": "code",
   "execution_count": null,
   "metadata": {},
   "outputs": [],
   "source": [
    "df_SPY.head()"
   ]
  },
  {
   "cell_type": "code",
   "execution_count": null,
   "metadata": {},
   "outputs": [],
   "source": [
    "# Split the data into training and testing sets\n",
    "train_size = int(len(df_SPY) * 0.8)\n",
    "df_SPY_train = df_SPY.iloc[:train_size]\n",
    "df_SPY_test = df_SPY.iloc[train_size:]"
   ]
  },
  {
   "cell_type": "markdown",
   "metadata": {},
   "source": [
    "### ARIMA MODEL "
   ]
  },
  {
   "cell_type": "code",
   "execution_count": null,
   "metadata": {},
   "outputs": [],
   "source": [
    "# ARIMA Model\n",
    "print(\"Developing ARIMA Model for SPY\")\n",
    "arima_model = ARIMA(df_SPY_train['Close'], order=(1, 1, 1))\n",
    "arima_model_fit = arima_model.fit()\n",
    "#arima_forecast = arima_model_fit.forecast(steps=len(df_SPY_test))[0]\n",
    "arima_forecast = arima_model_fit.forecast(steps=len(df_SPY_test))\n"
   ]
  },
  {
   "cell_type": "code",
   "execution_count": null,
   "metadata": {},
   "outputs": [],
   "source": [
    "arima_mae = mean_absolute_error(df_SPY_test['Close'], arima_forecast)\n",
    "arima_rmse = np.sqrt(mean_squared_error(df_SPY_test['Close'], arima_forecast))\n",
    "arima_mape = mean_absolute_percentage_error(df_SPY_test['Close'], arima_forecast)"
   ]
  },
  {
   "cell_type": "code",
   "execution_count": null,
   "metadata": {},
   "outputs": [],
   "source": [
    "print(f\"ARIMA Model Performance:\")\n",
    "print(f\"MAE: {arima_mae:.2f}\")\n",
    "print(f\"RMSE: {arima_rmse:.2f}\")\n",
    "print(f\"MAPE: {arima_mape:.2f}%\")"
   ]
  },
  {
   "cell_type": "markdown",
   "metadata": {},
   "source": [
    "### SARIMA Model"
   ]
  },
  {
   "cell_type": "code",
   "execution_count": null,
   "metadata": {},
   "outputs": [],
   "source": [
    "# SARIMA Model\n",
    "print(\"Developing SARIMA Model for SPY\")\n",
    "sarima_model = SARIMAX(df_SPY_train['Close'], order=(1, 1, 1), seasonal_order=(1, 1, 1, 12))\n",
    "sarima_model_fit = sarima_model.fit()\n",
    "#sarima_forecast = sarima_model_fit.forecast(steps=len(df_SPY_test))[0]\n",
    "sarima_forecast = sarima_model_fit.forecast(steps=len(df_SPY_test))\n",
    "\n",
    "sarima_mae = mean_absolute_error(df_SPY_test['Close'], sarima_forecast)\n",
    "sarima_rmse = np.sqrt(mean_squared_error(df_SPY_test['Close'], sarima_forecast))\n",
    "sarima_mape = mean_absolute_percentage_error(df_SPY_test['Close'], sarima_forecast)\n",
    "\n",
    "print(f\"SARIMA Model Performance:\")\n",
    "print(f\"MAE: {sarima_mae:.2f}\")\n",
    "print(f\"RMSE: {sarima_rmse:.2f}\")\n",
    "print(f\"MAPE: {sarima_mape:.2f}%\")"
   ]
  },
  {
   "cell_type": "code",
   "execution_count": null,
   "metadata": {},
   "outputs": [],
   "source": [
    "# confidence intervals to assess forecast reliability.\n",
    "sarima_model_fit.get_forecast(steps=len(df_SPY_test)).conf_int()"
   ]
  },
  {
   "cell_type": "markdown",
   "metadata": {},
   "source": [
    "Plot  for the actual values of df_SPY_test['Close'] against the sarima_forecast to visually assess the accuracy of the SARIMA model."
   ]
  },
  {
   "cell_type": "code",
   "execution_count": null,
   "metadata": {},
   "outputs": [],
   "source": [
    "plt.figure(figsize=(12, 6))\n",
    "plt.plot(df_SPY_train['Close'], label='Train Data')\n",
    "plt.plot(df_SPY_test['Close'], label='Test Data', color='orange')\n",
    "plt.plot(df_SPY_test.index, sarima_forecast, label='Forecast', color='green')\n",
    "plt.title(\"SPY Close Price - Actual vs. SARIMA Forecast\")\n",
    "plt.xlabel(\"Date\")\n",
    "plt.ylabel(\"Close Price\")\n",
    "plt.legend()\n",
    "plt.show()\n"
   ]
  },
  {
   "cell_type": "markdown",
   "metadata": {},
   "source": [
    "Residuals (actual minus predicted values) to check for patterns"
   ]
  },
  {
   "cell_type": "code",
   "execution_count": null,
   "metadata": {},
   "outputs": [],
   "source": [
    "residuals = df_SPY_test['Close'] - sarima_forecast\n",
    "plt.figure(figsize=(12, 6))\n",
    "plt.plot(residuals)\n",
    "plt.axhline(y=0, color='red', linestyle='--')\n",
    "plt.title(\"SARIMA Model Residuals\")\n",
    "plt.xlabel(\"Date\")\n",
    "plt.ylabel(\"Residuals\")\n",
    "plt.show()"
   ]
  },
  {
   "cell_type": "markdown",
   "metadata": {},
   "source": [
    "Residual Autocorrelation (ACF) Plot"
   ]
  },
  {
   "cell_type": "code",
   "execution_count": null,
   "metadata": {},
   "outputs": [],
   "source": [
    "from statsmodels.graphics.tsaplots import plot_acf\n",
    "plot_acf(residuals)\n",
    "plt.title(\"ACF of SARIMA Residuals\")\n",
    "plt.show()"
   ]
  },
  {
   "cell_type": "markdown",
   "metadata": {},
   "source": [
    "Displaying confidence intervals around forecasted values to provide insights into the forecast’s uncertainty."
   ]
  },
  {
   "cell_type": "code",
   "execution_count": null,
   "metadata": {},
   "outputs": [],
   "source": [
    "sarima_forecast_ci = sarima_model_fit.get_forecast(steps=len(df_SPY_test)).conf_int()\n",
    "plt.figure(figsize=(12, 6))\n",
    "plt.plot(df_SPY_test['Close'], label=\"Actual Test Data\", color=\"orange\")\n",
    "plt.plot(df_SPY_test.index, sarima_forecast, label=\"Forecasted Values\", color=\"green\")\n",
    "plt.fill_between(df_SPY_test.index, \n",
    "                 sarima_forecast_ci.iloc[:, 0], \n",
    "                 sarima_forecast_ci.iloc[:, 1], color='k', alpha=0.1)\n",
    "plt.title(\"SPY Close Price Forecast with Confidence Intervals\")\n",
    "plt.xlabel(\"Date\")\n",
    "plt.ylabel(\"Close Price\")\n",
    "plt.legend()\n",
    "plt.show()\n"
   ]
  },
  {
   "cell_type": "markdown",
   "metadata": {},
   "source": [
    "seasonal decomposition"
   ]
  },
  {
   "cell_type": "code",
   "execution_count": null,
   "metadata": {},
   "outputs": [],
   "source": [
    "from statsmodels.tsa.seasonal import seasonal_decompose\n",
    "decomposition = seasonal_decompose(df_SPY_train['Close'], model='additive', period=12)\n",
    "decomposition.plot()\n",
    "plt.show()"
   ]
  },
  {
   "cell_type": "markdown",
   "metadata": {},
   "source": [
    "### LSTM Model"
   ]
  },
  {
   "cell_type": "code",
   "execution_count": null,
   "metadata": {},
   "outputs": [],
   "source": [
    "# LSTM Model\n",
    "print(\"Developing LSTM Model for SPY\")\n",
    "lstm_model = Sequential()\n",
    "lstm_model.add(LSTM(50, input_shape=(1, 1), return_sequences=False))  # Change input_shape to (1, 1)\n",
    "lstm_model.add(Dense(1))\n",
    "lstm_model.compile(loss='mean_squared_error', optimizer='adam')\n",
    "\n",
    "# Reshape X_train to (len(df_SPY_train), 1, 1)\n",
    "X_train = df_SPY_train[['Close']].values.reshape((len(df_SPY_train), 1, 1))\n",
    "y_train = df_SPY_train['Close'].values\n",
    "\n",
    "# Train the model\n",
    "lstm_model.fit(X_train, y_train, epochs=50, batch_size=32, verbose=0)\n",
    "\n",
    "# Reshape X_test to (len(df_SPY_test), 1, 1)\n",
    "X_test = df_SPY_test[['Close']].values.reshape((len(df_SPY_test), 1, 1))\n",
    "lstm_forecast = lstm_model.predict(X_test)\n",
    "\n",
    "# Evaluate the model\n",
    "lstm_mae = mean_absolute_error(df_SPY_test['Close'], lstm_forecast.flatten())\n",
    "lstm_rmse = np.sqrt(mean_squared_error(df_SPY_test['Close'], lstm_forecast.flatten()))\n",
    "lstm_mape = mean_absolute_percentage_error(df_SPY_test['Close'], lstm_forecast.flatten())\n",
    "\n",
    "print(f\"LSTM Model Performance:\")\n",
    "print(f\"MAE: {lstm_mae:.2f}\")\n",
    "print(f\"RMSE: {lstm_rmse:.2f}\")\n",
    "print(f\"MAPE: {lstm_mape:.2f}%\")\n"
   ]
  },
  {
   "cell_type": "markdown",
   "metadata": {},
   "source": [
    "LSTM Actual vs. Forecasted Plot"
   ]
  },
  {
   "cell_type": "code",
   "execution_count": null,
   "metadata": {},
   "outputs": [],
   "source": [
    "plt.figure(figsize=(12, 6))\n",
    "plt.plot(df_SPY_test.index, df_SPY_test['Close'], label=\"Actual Test Data\", color=\"orange\")\n",
    "plt.plot(df_SPY_test.index, lstm_forecast, label=\"LSTM Forecast\", color=\"green\")\n",
    "plt.title(\"SPY Close Price - Actual vs. LSTM Forecast\")\n",
    "plt.xlabel(\"Date\")\n",
    "plt.ylabel(\"Close Price\")\n",
    "plt.legend()\n",
    "plt.show()"
   ]
  },
  {
   "cell_type": "markdown",
   "metadata": {},
   "source": [
    "LSTM Loss Curve "
   ]
  },
  {
   "cell_type": "code",
   "execution_count": null,
   "metadata": {},
   "outputs": [],
   "source": [
    "history = lstm_model.fit(X_train, y_train, epochs=50, batch_size=32, verbose=0)\n",
    "plt.plot(history.history['loss'])\n",
    "plt.title('LSTM Model Training Loss')\n",
    "plt.xlabel('Epochs')\n",
    "plt.ylabel('Loss')\n",
    "plt.show()"
   ]
  },
  {
   "cell_type": "markdown",
   "metadata": {},
   "source": [
    "LSTM Residual Plot "
   ]
  },
  {
   "cell_type": "code",
   "execution_count": null,
   "metadata": {},
   "outputs": [],
   "source": [
    "lstm_residuals = df_SPY_test['Close'] - lstm_forecast.flatten()\n",
    "plt.figure(figsize=(12, 6))\n",
    "plt.plot(lstm_residuals)\n",
    "plt.axhline(y=0, color='red', linestyle='--')\n",
    "plt.title(\"LSTM Model Residuals\")\n",
    "plt.xlabel(\"Date\")\n",
    "plt.ylabel(\"Residuals\")\n",
    "plt.show()"
   ]
  },
  {
   "cell_type": "code",
   "execution_count": null,
   "metadata": {},
   "outputs": [],
   "source": [
    "plt.hist(lstm_residuals, bins=30)\n",
    "plt.title(\"Distribution of LSTM Residuals\")\n",
    "plt.xlabel(\"Residuals\")\n",
    "plt.ylabel(\"Frequency\")\n",
    "plt.show()"
   ]
  },
  {
   "cell_type": "code",
   "execution_count": null,
   "metadata": {},
   "outputs": [],
   "source": [
    "plt.scatter(df_SPY_test['Close'], lstm_forecast.flatten(), alpha=0.5)\n",
    "plt.plot([df_SPY_test['Close'].min(), df_SPY_test['Close'].max()], \n",
    "         [df_SPY_test['Close'].min(), df_SPY_test['Close'].max()], 'r--')\n",
    "plt.xlabel(\"Actual Close Price\")\n",
    "plt.ylabel(\"Predicted Close Price\")\n",
    "plt.title(\"Actual vs. Predicted Close Price\")\n",
    "plt.show()"
   ]
  },
  {
   "cell_type": "markdown",
   "metadata": {},
   "source": [
    "### Model Performance Comparison "
   ]
  },
  {
   "cell_type": "code",
   "execution_count": null,
   "metadata": {},
   "outputs": [],
   "source": [
    "# Compare Model Performance\n",
    "print(\"Comparing Model Performance:\")\n",
    "print(f\"ARIMA MAE: {arima_mae:.2f}, RMSE: {arima_rmse:.2f}, MAPE: {arima_mape:.2f}%\")\n",
    "print(f\"SARIMA MAE: {sarima_mae:.2f}, RMSE: {sarima_rmse:.2f}, MAPE: {sarima_mape:.2f}%\")\n",
    "print(f\"LSTM MAE: {lstm_mae:.2f}, RMSE: {lstm_rmse:.2f}, MAPE: {lstm_mape:.2f}%\")"
   ]
  },
  {
   "cell_type": "code",
   "execution_count": null,
   "metadata": {},
   "outputs": [],
   "source": [
    "# Select the best model based on performance metrics\n",
    "if arima_mape < sarima_mape and arima_mape < lstm_mape:\n",
    "    best_model = \"ARIMA\"\n",
    "    best_forecast = arima_forecast\n",
    "elif sarima_mape < arima_mape and sarima_mape < lstm_mape:\n",
    "    best_model = \"SARIMA\"\n",
    "    best_forecast = sarima_forecast\n",
    "else:\n",
    "    best_model = \"LSTM\"\n",
    "    best_forecast = lstm_forecast.flatten()\n",
    "\n",
    "print(f\"The best model is {best_model} based on MAPE.\")"
   ]
  },
  {
   "cell_type": "code",
   "execution_count": null,
   "metadata": {},
   "outputs": [],
   "source": [
    "print(f\"The best model is {best_model} based on MAPE.\")\n",
    "\n",
    "# Visualize the forecasts\n",
    "plt.figure(figsize=(12, 6))\n",
    "plt.plot(df_SPY_test.index, df_SPY_test['Close'], label='Actual')\n",
    "plt.plot(df_SPY_test.index, best_forecast, label='Forecast')\n",
    "plt.title(f\"SPY Stock Price Forecast ({best_model})\")\n",
    "plt.xlabel('Date')\n",
    "plt.ylabel('Price (USD)')\n",
    "plt.legend()\n",
    "plt.show()"
   ]
  }
 ],
 "metadata": {
  "kernelspec": {
   "display_name": "venv",
   "language": "python",
   "name": "python3"
  },
  "language_info": {
   "codemirror_mode": {
    "name": "ipython",
    "version": 3
   },
   "file_extension": ".py",
   "mimetype": "text/x-python",
   "name": "python",
   "nbconvert_exporter": "python",
   "pygments_lexer": "ipython3",
   "version": "3.12.1"
  }
 },
 "nbformat": 4,
 "nbformat_minor": 2
}
